{
 "cells": [
  {
   "cell_type": "code",
   "execution_count": 1,
   "id": "08244d67-59ad-4736-b472-a4fc945b96ab",
   "metadata": {},
   "outputs": [],
   "source": [
    "import cv2 as cv\n",
    "import numpy as np\n",
    "import os"
   ]
  },
  {
   "cell_type": "code",
   "execution_count": 2,
   "id": "1d8e9419-a40d-4ba0-ab88-2d6cfcde6c0e",
   "metadata": {},
   "outputs": [],
   "source": [
    "classes = []\n",
    "file_path = \"coco.names\"  # Use the correct relative or absolute path\n",
    "with open(file_path, \"r\") as f:\n",
    "    classes = [line.strip() for line in f.readlines()]"
   ]
  },
  {
   "cell_type": "code",
   "execution_count": 3,
   "id": "0b5394c8-dddb-470a-9cb8-ad5af04cc4a6",
   "metadata": {},
   "outputs": [],
   "source": [
    "execution_path = os.getcwd()\n",
    "yolo_net = cv.dnn.readNet(os.path.join(execution_path,\"yolov3.weights\"), os.path.join(execution_path,\"yolov3.cfg\"))"
   ]
  },
  {
   "cell_type": "code",
   "execution_count": 4,
   "id": "d48ebad1-dbe3-430e-9331-aac461106699",
   "metadata": {},
   "outputs": [],
   "source": [
    "layer_names = yolo_net.getLayerNames()\n",
    "output_layers = [layer_names[i - 1] for i in yolo_net.getUnconnectedOutLayers()]\n"
   ]
  },
  {
   "cell_type": "code",
   "execution_count": 5,
   "id": "1ea7fe77-4901-4e2a-b42e-d921102b07cf",
   "metadata": {},
   "outputs": [],
   "source": [
    "image = cv.imread(\"04_tehran.png\")\n",
    "height, width, channels = image.shape"
   ]
  },
  {
   "cell_type": "code",
   "execution_count": 6,
   "id": "4447e371-cf79-4055-b429-f30694ad7789",
   "metadata": {},
   "outputs": [],
   "source": [
    "img_blob = cv.dnn.blobFromImage(image, 0.00392, (416, 416), (0, 0, 0), True, crop=False)"
   ]
  },
  {
   "cell_type": "code",
   "execution_count": 7,
   "id": "b2ea4546-cf3e-403d-bc98-e8a117b1d086",
   "metadata": {},
   "outputs": [
    {
     "data": {
      "text/plain": [
       "(507, 85)"
      ]
     },
     "execution_count": 7,
     "metadata": {},
     "output_type": "execute_result"
    }
   ],
   "source": [
    "yolo_net.setInput(img_blob)\n",
    "outputs = yolo_net.forward(output_layers)\n",
    "outputs[0].shape"
   ]
  },
  {
   "cell_type": "code",
   "execution_count": 8,
   "id": "322e3116-c6c1-4555-b666-36c50d45139d",
   "metadata": {},
   "outputs": [],
   "source": [
    "class_ids = []\n",
    "confidences = []\n",
    "boxes = []\n",
    "for out in outputs:\n",
    "    for detection in out:\n",
    "        scores = detection[5:]\n",
    "        class_id = np.argmax(scores)\n",
    "        confidence = scores[class_id]\n",
    "        if confidence> 0.5:\n",
    "            center_x = int(detection[0] * width)\n",
    "            center_y = int(detection[1] * height)\n",
    "            w = int(detection[2] * width)\n",
    "            h = int(detection[3] * height)\n",
    "\n",
    "            # Rectangle coordinates\n",
    "            x = int(center_x - w / 2)\n",
    "            y = int(center_y - h / 2)\n",
    "            boxes.append([x, y, w, h])\n",
    "            confidences.append(float(confidence))\n",
    "            class_ids.append(class_id)"
   ]
  },
  {
   "cell_type": "code",
   "execution_count": 9,
   "id": "73ef29a4-1462-45b0-8774-8fdefbbaef2b",
   "metadata": {},
   "outputs": [
    {
     "data": {
      "text/plain": [
       "True"
      ]
     },
     "execution_count": 9,
     "metadata": {},
     "output_type": "execute_result"
    }
   ],
   "source": [
    "\n",
    "\n",
    "colors = np.random.uniform(0, 255, size=(len(classes), 3))\n",
    "colors[0],colors[1],colors[2],colors[5],colors[9] = (0, 136, 255), (226, 43, 138), (255, 191, 0), (153, 255, 255), (164, 203, 255)\n",
    "indexes = cv.dnn.NMSBoxes(boxes, confidences, 0.5, 0.4)\n",
    "\n",
    "for i in range(len(boxes)):\n",
    "    if i in indexes:\n",
    "        x, y, w, h = boxes[i]\n",
    "        label = str(classes[class_ids[i]])\n",
    "        color = colors[class_ids[i]]\n",
    "        cv.rectangle(image, (x, y), (x + w, y + h), color, 2)\n",
    "        cv.putText(image, label, (x, y + 30), cv.FONT_HERSHEY_PLAIN, 1, color, 2)\n",
    "\n",
    "cv.imwrite(\"05_tehran_det_cv.png\",image)"
   ]
  },
  {
   "cell_type": "code",
   "execution_count": 11,
   "id": "30bb9e5e-720b-4bc3-a8a1-272b4e859239",
   "metadata": {},
   "outputs": [
    {
     "ename": "SyntaxError",
     "evalue": "invalid syntax (1114202960.py, line 50)",
     "output_type": "error",
     "traceback": [
      "\u001b[0;36m  Cell \u001b[0;32mIn [11], line 50\u001b[0;36m\u001b[0m\n\u001b[0;31m    cv.VideoWriter(\"driving_camera.mp4\", fourcc, fps, frameSize[, isColor])\u001b[0m\n\u001b[0m                                                                ^\u001b[0m\n\u001b[0;31mSyntaxError\u001b[0m\u001b[0;31m:\u001b[0m invalid syntax\n"
     ]
    }
   ],
   "source": [
    "\n",
    "\n",
    "cap = cv.VideoCapture(\"driving_camera.mp4\")\n",
    "\n",
    "while(cap.isOpened()):\n",
    "  ret, frame = cap.read()\n",
    "  if ret == True:\n",
    "    img = cv.resize(frame, None, fx=0.8, fy=0.8)\n",
    "    height, width, channels = img.shape\n",
    "    blob = cv.dnn.blobFromImage(img, 0.00392, (416, 416), (0, 0, 0), True, crop=False)\n",
    "    yolo_net.setInput(blob)\n",
    "    outs = yolo_net.forward(output_layers)\n",
    "    class_ids = []\n",
    "    confidences = []\n",
    "    boxes = []\n",
    "    for out in outs:\n",
    "        for detection in out:\n",
    "            scores = detection[5:]\n",
    "            class_id = np.argmax(scores)\n",
    "            confidence = scores[class_id]\n",
    "            if confidence > 0.5:\n",
    "                # Object detected\n",
    "                center_x = int(detection[0] * width)\n",
    "                center_y = int(detection[1] * height)\n",
    "                w = int(detection[2] * width)\n",
    "                h = int(detection[3] * height)\n",
    "\n",
    "                # Rectangle coordinates\n",
    "                x = int(center_x - w / 2)\n",
    "                y = int(center_y - h / 2)\n",
    "\n",
    "                boxes.append([x, y, w, h])\n",
    "                confidences.append(float(confidence))\n",
    "                class_ids.append(class_id)\n",
    "\n",
    "    indexes = cv.dnn.NMSBoxes(boxes, confidences, 0.5, 0.4)\n",
    "    print(indexes)\n",
    "    font = cv.FONT_HERSHEY_PLAIN\n",
    "    for i in range(len(boxes)):\n",
    "        if i in indexes:\n",
    "            x, y, w, h = boxes[i]\n",
    "            label = str(classes[class_ids[i]])\n",
    "            color = colors[class_ids[i]]\n",
    "            cv.rectangle(img, (x, y), (x + w, y + h), color, 2)\n",
    "            cv.putText(img, label, (x, y + 30), font, 2, color, 2)\n",
    "    # cv.imshow('Frame',img)\n",
    "    # if cv.waitKey(25) & 0xFF == ord('q'):\n",
    "    #   break\n",
    "# cap = cv.VideoCapture(\"driving_camera.mp4\")\n",
    "\n",
    "\n",
    "cv.VideoWriter(\"driving_camera.mp4\", fourcc, fps, frameSize[, isColor])\n",
    "\n",
    "# cap.release()\n",
    "# cv.destroyAllWindows()"
   ]
  },
  {
   "cell_type": "code",
   "execution_count": null,
   "id": "d3cada2b-725f-4082-8320-19aa014dff62",
   "metadata": {},
   "outputs": [],
   "source": []
  }
 ],
 "metadata": {
  "kernelspec": {
   "display_name": "Python",
   "language": "python",
   "name": "python3"
  },
  "language_info": {
   "codemirror_mode": {
    "name": "ipython",
    "version": 3
   },
   "file_extension": ".py",
   "mimetype": "text/x-python",
   "name": "python",
   "nbconvert_exporter": "python",
   "pygments_lexer": "ipython3",
   "version": "3.8.10"
  }
 },
 "nbformat": 4,
 "nbformat_minor": 5
}
