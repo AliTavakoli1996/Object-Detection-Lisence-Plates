{
 "cells": [
  {
   "cell_type": "code",
   "execution_count": 1,
   "id": "ff812731-0760-4c22-a1e4-5a5ad7407991",
   "metadata": {},
   "outputs": [],
   "source": [
    "from imageai.Detection import ObjectDetection\n",
    "import os"
   ]
  },
  {
   "cell_type": "code",
   "execution_count": 2,
   "id": "9d14dc11-5f09-4be8-bc25-68887b7958bf",
   "metadata": {},
   "outputs": [],
   "source": [
    "detector = ObjectDetection()"
   ]
  },
  {
   "cell_type": "code",
   "execution_count": 3,
   "id": "34225ae6-9e11-4ecf-87c3-db0594e0e145",
   "metadata": {},
   "outputs": [],
   "source": [
    "detector.setModelTypeAsYOLOv3()"
   ]
  },
  {
   "cell_type": "code",
   "execution_count": 4,
   "id": "a06c3d73-69db-4740-96a7-40a9662bf006",
   "metadata": {},
   "outputs": [],
   "source": [
    "execution_path = os.getcwd()"
   ]
  },
  {
   "cell_type": "code",
   "execution_count": 5,
   "id": "ad4f57d5-d2cb-43b4-8c19-1eaf52a5a4c9",
   "metadata": {},
   "outputs": [],
   "source": [
    "detector.setModelPath(os.path.join(execution_path, \"yolov3.pt\"))"
   ]
  },
  {
   "cell_type": "code",
   "execution_count": 6,
   "id": "2d6ea17e-eee1-4abe-b44f-393201a1cf51",
   "metadata": {},
   "outputs": [],
   "source": [
    "detector.loadModel()"
   ]
  },
  {
   "cell_type": "code",
   "execution_count": 8,
   "id": "75337650-753f-42d5-bdb5-155778a003c7",
   "metadata": {},
   "outputs": [],
   "source": [
    "detections = detector.detectObjectsFromImage(input_image=os.path.join(execution_path , \"IMG_3367.JPG\"), output_image_path=os.path.join(execution_path , \"IMG_3367_detected.JPG\"), minimum_percentage_probability=30)"
   ]
  },
  {
   "cell_type": "code",
   "execution_count": 9,
   "id": "ee069206-b316-4542-bc32-318da7642cf5",
   "metadata": {},
   "outputs": [],
   "source": [
    "custom_detector = detector.CustomObjects(bottle = True)"
   ]
  },
  {
   "cell_type": "code",
   "execution_count": 17,
   "id": "4c4e91a2-44fc-4e42-a21c-e30c2c3cacfe",
   "metadata": {},
   "outputs": [],
   "source": [
    "# Define custom objects\n",
    "custom_objects = detector.CustomObjects(bottle=True, chair=True)\n",
    "\n",
    "# Specify the input image and output image paths\n",
    "input_image_path = os.path.join(execution_path, \"IMG_3367.JPG\")\n",
    "output_image_path = os.path.join(execution_path, \"IMG_3367_custom.JPG\")\n",
    "\n",
    "# Detect custom objects in the input image\n",
    "detections = detector.detectObjectsFromImage(\n",
    "    custom_objects=custom_objects,\n",
    "    input_image=input_image_path,\n",
    "    output_image_path=output_image_path,\n",
    "    minimum_percentage_probability=30\n",
    ")"
   ]
  },
  {
   "cell_type": "code",
   "execution_count": 14,
   "id": "a0daf043-bb90-42d3-b768-143bb0e2cbc5",
   "metadata": {},
   "outputs": [
    {
     "name": "stdout",
     "output_type": "stream",
     "text": [
      "person  :  99.99  :  [857, 580, 1083, 957]\n",
      "--------------------------------\n",
      "person  :  100.0  :  [586, 633, 882, 1058]\n",
      "--------------------------------\n",
      "person  :  99.77  :  [1353, 597, 1620, 919]\n",
      "--------------------------------\n",
      "person  :  99.94  :  [568, 497, 647, 608]\n",
      "--------------------------------\n",
      "person  :  99.96  :  [1494, 495, 1579, 601]\n",
      "--------------------------------\n",
      "person  :  99.74  :  [71, 464, 200, 646]\n",
      "--------------------------------\n",
      "person  :  99.68  :  [1238, 507, 1342, 592]\n",
      "--------------------------------\n",
      "person  :  99.98  :  [1164, 494, 1233, 577]\n",
      "--------------------------------\n",
      "person  :  99.95  :  [1109, 475, 1176, 557]\n",
      "--------------------------------\n",
      "person  :  99.65  :  [766, 544, 890, 721]\n",
      "--------------------------------\n",
      "person  :  99.41  :  [1040, 536, 1167, 637]\n",
      "--------------------------------\n",
      "person  :  99.29  :  [642, 506, 754, 614]\n",
      "--------------------------------\n",
      "person  :  99.95  :  [1286, 505, 1415, 666]\n",
      "--------------------------------\n",
      "person  :  89.9  :  [703, 532, 781, 628]\n",
      "--------------------------------\n",
      "bottle  :  99.9  :  [1053, 907, 1116, 1080]\n",
      "--------------------------------\n",
      "bottle  :  99.51  :  [1236, 785, 1288, 952]\n",
      "--------------------------------\n",
      "bottle  :  99.05  :  [568, 728, 608, 834]\n",
      "--------------------------------\n",
      "bottle  :  90.32  :  [1244, 668, 1271, 734]\n",
      "--------------------------------\n",
      "chair  :  99.57  :  [892, 798, 1140, 1068]\n",
      "--------------------------------\n",
      "chair  :  54.63  :  [1205, 593, 1307, 664]\n",
      "--------------------------------\n"
     ]
    }
   ],
   "source": [
    "for eachObject in detections:\n",
    "    print(eachObject[\"name\"] , \" : \", eachObject[\"percentage_probability\"], \" : \", eachObject[\"box_points\"] )\n",
    "    print(\"--------------------------------\")"
   ]
  },
  {
   "cell_type": "code",
   "execution_count": null,
   "id": "5cad00d7-36ca-4488-98b1-c4fbf59f6750",
   "metadata": {},
   "outputs": [],
   "source": []
  }
 ],
 "metadata": {
  "kernelspec": {
   "display_name": "Python",
   "language": "python",
   "name": "python3"
  },
  "language_info": {
   "codemirror_mode": {
    "name": "ipython",
    "version": 3
   },
   "file_extension": ".py",
   "mimetype": "text/x-python",
   "name": "python",
   "nbconvert_exporter": "python",
   "pygments_lexer": "ipython3",
   "version": "3.8.10"
  }
 },
 "nbformat": 4,
 "nbformat_minor": 5
}
